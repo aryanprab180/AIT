{
  "nbformat": 4,
  "nbformat_minor": 0,
  "metadata": {
    "colab": {
      "provenance": [],
      "authorship_tag": "ABX9TyOKSCJoZCZa8u29zPbjjkOO",
      "include_colab_link": true
    },
    "kernelspec": {
      "name": "python3",
      "display_name": "Python 3"
    },
    "language_info": {
      "name": "python"
    }
  },
  "cells": [
    {
      "cell_type": "markdown",
      "metadata": {
        "id": "view-in-github",
        "colab_type": "text"
      },
      "source": [
        "<a href=\"https://colab.research.google.com/github/aryanprab180/AIT/blob/main/Picture.ipynb\" target=\"_parent\"><img src=\"https://colab.research.google.com/assets/colab-badge.svg\" alt=\"Open In Colab\"/></a>"
      ]
    },
    {
      "cell_type": "code",
      "execution_count": null,
      "metadata": {
        "id": "2xLZJK-qnLIl"
      },
      "outputs": [],
      "source": [
        "from PIL import Image"
      ]
    },
    {
      "cell_type": "code",
      "source": [
        "im = Image.open(\"beach.jpg\")\n",
        "map = im.load()\n",
        "w, h = im.size\n",
        "for x in range(31):\n",
        "    for y in range(31):\n",
        "        map[x,y] = (0,0,0)\n",
        "\n",
        "im"
      ],
      "metadata": {
        "colab": {
          "base_uri": "https://localhost:8080/",
          "height": 782
        },
        "id": "Lw9BxlRcn2u5",
        "outputId": "79f50faf-6489-4996-834b-fcabd16b3ea3"
      },
      "execution_count": null,
      "outputs": []
    }
  ]
}