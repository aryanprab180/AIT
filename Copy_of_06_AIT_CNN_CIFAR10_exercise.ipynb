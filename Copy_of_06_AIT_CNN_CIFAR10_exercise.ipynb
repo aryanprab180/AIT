{
  "nbformat": 4,
  "nbformat_minor": 0,
  "metadata": {
    "anaconda-cloud": {},
    "kernelspec": {
      "display_name": "Python 3",
      "language": "python",
      "name": "python3"
    },
    "language_info": {
      "codemirror_mode": {
        "name": "ipython",
        "version": 3
      },
      "file_extension": ".py",
      "mimetype": "text/x-python",
      "name": "python",
      "nbconvert_exporter": "python",
      "pygments_lexer": "ipython3",
      "version": "3.6.6"
    },
    "colab": {
      "provenance": [],
      "include_colab_link": true
    },
    "accelerator": "GPU"
  },
  "cells": [
    {
      "cell_type": "markdown",
      "metadata": {
        "id": "view-in-github",
        "colab_type": "text"
      },
      "source": [
        "<a href=\"https://colab.research.google.com/github/aryanprab180/AIT/blob/main/Copy_of_06_AIT_CNN_CIFAR10_exercise.ipynb\" target=\"_parent\"><img src=\"https://colab.research.google.com/assets/colab-badge.svg\" alt=\"Open In Colab\"/></a>"
      ]
    },
    {
      "cell_type": "markdown",
      "metadata": {
        "id": "cW-EyI5Lxpqi"
      },
      "source": [
        "# Copyright\n",
        "\n",
        "<PRE>\n",
        "Copyright (c) 2023 Bálint Gyires-Tóth - All Rights Reserved\n",
        "You may use and modify this code for research and development purpuses.\n",
        "Using this code for educational purposes (self-paced or instructor led) without the permission of the author is prohibited.\n",
        "</PRE>"
      ]
    },
    {
      "cell_type": "markdown",
      "source": [
        "# Convolutional Neural Network exercise\n",
        "\n",
        "In this notebook, you will build a convolutional neural network, which offers superior results over the previous MLP solution. Additionally, you will perform a more detailed evaluation.  "
      ],
      "metadata": {
        "id": "3EX4cCa4WKJu"
      }
    },
    {
      "cell_type": "code",
      "source": [
        "# imports \n",
        "import tensorflow\n",
        "from tensorflow.keras.datasets import cifar10\n",
        "from tensorflow.keras.utils import to_categorical\n",
        "import numpy as np\n",
        "import matplotlib.pyplot as plt\n",
        "from tensorflow.keras.models import Sequential\n",
        "from tensorflow.keras.layers import Dense, Conv2D, MaxPool2D, Flatten, Dropout, BatchNormalization\n",
        "from tensorflow.keras.initializers import HeNormal\n",
        "from tensorflow.keras.callbacks import EarlyStopping"
      ],
      "metadata": {
        "id": "GdCMhy4HA2qd"
      },
      "execution_count": 1,
      "outputs": []
    },
    {
      "cell_type": "markdown",
      "source": [
        "# 1. Data\n",
        "The dataset we will use is the well-known CIFAR10 (Canadian Institute For Advanced Research). Explore the details on the Keras website first: https://keras.io/api/datasets/cifar10/\n",
        "\n",
        "There isn't much difference between the data preprocessing part and the one we did before. The only difference is that we don't have to reshape images into vectors, but we are working with a 4 dimensional data structure, where the dimensions are: batch, X, Y, and color channels. \n",
        "\n",
        "In the event that anything is not clear regarding the data preparation part, please check the previous CIFAR10 notebook."
      ],
      "metadata": {
        "id": "yY9fztIeWIKt"
      }
    },
    {
      "cell_type": "code",
      "source": [
        "(X_train, Y_train), (X_test, Y_test) = cifar10.load_data()"
      ],
      "metadata": {
        "id": "bez7q0eiWQCK",
        "colab": {
          "base_uri": "https://localhost:8080/"
        },
        "outputId": "64f295a3-dde7-4d76-ff2f-4ea92fccdc50"
      },
      "execution_count": 2,
      "outputs": [
        {
          "output_type": "stream",
          "name": "stdout",
          "text": [
            "Downloading data from https://www.cs.toronto.edu/~kriz/cifar-10-python.tar.gz\n",
            "170498071/170498071 [==============================] - 107s 1us/step\n"
          ]
        }
      ]
    },
    {
      "cell_type": "code",
      "source": [
        "# it is in int8 format, the neural network requires float32\n",
        "X_train = X_train.astype(\"float32\")\n",
        "X_test = X_test.astype(\"float32\")"
      ],
      "metadata": {
        "id": "vukOcBM0XzSj"
      },
      "execution_count": 3,
      "outputs": []
    },
    {
      "cell_type": "code",
      "source": [
        "train_ratio  = 0.8\n",
        "train_length = X_train.shape[0]\n",
        "train_split  = int(train_ratio*train_length)\n",
        "X_valid, Y_valid = X_train[train_split:], Y_train[train_split:]\n",
        "X_train, Y_train = X_train[:train_split], Y_train[:train_split]"
      ],
      "metadata": {
        "id": "mRwuWxxIxLgN"
      },
      "execution_count": 4,
      "outputs": []
    },
    {
      "cell_type": "code",
      "source": [
        "mean = X_train.mean(axis=0)\n",
        "std  = X_train.std(axis=0)\n",
        "\n",
        "X_train = (X_train-mean)/std\n",
        "X_valid = (X_valid-mean)/std\n",
        "X_test  = (X_test-mean)/std"
      ],
      "metadata": {
        "id": "2ESLP1EIyB2J"
      },
      "execution_count": 5,
      "outputs": []
    },
    {
      "cell_type": "code",
      "source": [
        "nb_classes = len(np.unique(Y_train))\n",
        "Y_train = to_categorical(Y_train, nb_classes)\n",
        "Y_valid = to_categorical(Y_valid, nb_classes)\n",
        "Y_test  = to_categorical(Y_test, nb_classes)"
      ],
      "metadata": {
        "id": "xwZ4OJ6I8lba"
      },
      "execution_count": 6,
      "outputs": []
    },
    {
      "cell_type": "code",
      "source": [
        "print(\"Shapes of the training, validation and test input data:\", X_train.shape, X_valid.shape, X_test.shape)\n",
        "print(\"Shapes of the training, validation and test output data:\", Y_train.shape, Y_valid.shape, Y_test.shape)\n",
        "print(\"Mean values of the training, validation and test input data:\", X_train.mean(), X_valid.mean(), X_test.mean())\n",
        "print(\"Standard deviation of the training, validation and test input data:\", X_train.std(), X_valid.std(), X_test.std())"
      ],
      "metadata": {
        "id": "O_jdJVcvX0vi",
        "colab": {
          "base_uri": "https://localhost:8080/"
        },
        "outputId": "67b8dd7b-51e3-4bd0-e35c-c2ad16769942"
      },
      "execution_count": 7,
      "outputs": [
        {
          "output_type": "stream",
          "name": "stdout",
          "text": [
            "Shapes of the training, validation and test input data: (40000, 32, 32, 3) (10000, 32, 32, 3) (10000, 32, 32, 3)\n",
            "Shapes of the training, validation and test output data: (40000, 10) (10000, 10) (10000, 10)\n",
            "Mean values of the training, validation and test input data: 2.2788842e-09 0.0023437198 0.013331206\n",
            "Standard deviation of the training, validation and test input data: 1.0000023 0.9965626 0.99783075\n"
          ]
        }
      ]
    },
    {
      "cell_type": "markdown",
      "metadata": {
        "id": "cJ14oyZExpqj"
      },
      "source": [
        "# 2. Exercise: training"
      ]
    },
    {
      "cell_type": "markdown",
      "source": [
        "Create and train a convolutional neural network with the following requirements:\n",
        "* apply early stopping with patience=5 and monitor the validation accuracy, don't forget to load back the best weights after early stopping\n",
        "* the number of trainable parameters is lower than 200.000\n",
        "* the validation accuracy must be higher than 72%\n",
        "\n",
        "Hints:\n",
        "* you can always inspect the number of trainable parameters per layer with model.summary()\n",
        "* usually the most trainable parameters are between the last convolutional layer and the next dense layer -- so you should have a reasonable output size at the last convolutional layer\n",
        "* regularization helps (e.g. DropOut and/or BatchNormalization)\n",
        "* use the right activation function at the output layer and the corresponding loss function\n",
        "* for the chosen activation functions, please use the appropriate initialization method\n",
        "* you can match the dimension of the last conv/pooling layer to the next dense layer with e.g. Flatten()\n",
        "* ADAM optimizer is a reasonable choice \n",
        "* don't forget to turn on GPU support in Colab, otherwise, it would be quite slow to train the networks\n",
        "\n"
      ],
      "metadata": {
        "id": "j1tGVPdD-pp3"
      }
    },
    {
      "cell_type": "code",
      "source": [
        "es = tensorflow.keras.callbacks.EarlyStopping(\n",
        "    monitor='val_accuracy',\n",
        "    min_delta=0,\n",
        "    patience=5,\n",
        "    verbose=1,\n",
        "    mode='auto',\n",
        "    baseline=None,\n",
        "    restore_best_weights=True,\n",
        "    start_from_epoch=5\n",
        ")"
      ],
      "metadata": {
        "id": "5dBQxJHIHrbd"
      },
      "execution_count": 8,
      "outputs": []
    },
    {
      "cell_type": "code",
      "source": [
        "# model definition\n",
        "model = Sequential()\n",
        "model.add(Conv2D(32, (3, 3), activation='relu', input_shape=(32, 32, 3)))\n",
        "model.add(MaxPool2D((2, 2)))\n",
        "model.add(Dropout(0.4, input_shape=(32,32,3)))\n",
        "model.add(BatchNormalization())\n",
        "model.add(Conv2D(64, (3, 3), activation='relu'))\n",
        "model.add(MaxPool2D((2, 2)))\n",
        "model.add(Flatten())\n",
        "model.add(Dense(10, activation=\"sigmoid\"))\n",
        "\n",
        "# loss function and optimizer\n",
        "model.compile(loss='categorical_crossentropy', optimizer='adam', metrics=['accuracy'])"
      ],
      "metadata": {
        "id": "PuxHOqLt-3Nd"
      },
      "execution_count": 17,
      "outputs": []
    },
    {
      "cell_type": "code",
      "source": [
        "model.summary()"
      ],
      "metadata": {
        "id": "5eomQw8uE9Ix",
        "colab": {
          "base_uri": "https://localhost:8080/"
        },
        "outputId": "4792ec03-95f9-4f19-dd6d-2a4a486f0d26"
      },
      "execution_count": 18,
      "outputs": [
        {
          "output_type": "stream",
          "name": "stdout",
          "text": [
            "Model: \"sequential_3\"\n",
            "_________________________________________________________________\n",
            " Layer (type)                Output Shape              Param #   \n",
            "=================================================================\n",
            " conv2d_3 (Conv2D)           (None, 30, 30, 32)        896       \n",
            "                                                                 \n",
            " max_pooling2d_2 (MaxPooling  (None, 15, 15, 32)       0         \n",
            " 2D)                                                             \n",
            "                                                                 \n",
            " dropout_2 (Dropout)         (None, 15, 15, 32)        0         \n",
            "                                                                 \n",
            " batch_normalization_1 (Batc  (None, 15, 15, 32)       128       \n",
            " hNormalization)                                                 \n",
            "                                                                 \n",
            " conv2d_4 (Conv2D)           (None, 13, 13, 64)        18496     \n",
            "                                                                 \n",
            " max_pooling2d_3 (MaxPooling  (None, 6, 6, 64)         0         \n",
            " 2D)                                                             \n",
            "                                                                 \n",
            " flatten_1 (Flatten)         (None, 2304)              0         \n",
            "                                                                 \n",
            " dense_5 (Dense)             (None, 10)                23050     \n",
            "                                                                 \n",
            "=================================================================\n",
            "Total params: 42,570\n",
            "Trainable params: 42,506\n",
            "Non-trainable params: 64\n",
            "_________________________________________________________________\n"
          ]
        }
      ]
    },
    {
      "cell_type": "markdown",
      "source": [
        "Please, check the number of trainable paramers:"
      ],
      "metadata": {
        "id": "8tIbIIeTEI41"
      }
    },
    {
      "cell_type": "code",
      "source": [
        "print(\"#trainable parameters:\",model.count_params())"
      ],
      "metadata": {
        "id": "xdBAG7EJETlX",
        "colab": {
          "base_uri": "https://localhost:8080/"
        },
        "outputId": "5310edb5-33df-4ddf-d700-8ed7dd324b9e"
      },
      "execution_count": 19,
      "outputs": [
        {
          "output_type": "stream",
          "name": "stdout",
          "text": [
            "#trainable parameters: 42570\n"
          ]
        }
      ]
    },
    {
      "cell_type": "code",
      "source": [
        "# training\n",
        "network_history = model.fit(X_train, Y_train, \n",
        "                            validation_data=(X_valid,Y_valid),\n",
        "                            batch_size=128,                             \n",
        "                            epochs=50, \n",
        "                            verbose=1, \n",
        "                            callbacks=[es])"
      ],
      "metadata": {
        "id": "u8tFNCNVHyt9",
        "colab": {
          "base_uri": "https://localhost:8080/"
        },
        "outputId": "99b69b6c-4f21-47e8-f6bc-4b6bec670828"
      },
      "execution_count": 20,
      "outputs": [
        {
          "output_type": "stream",
          "name": "stdout",
          "text": [
            "Epoch 1/50\n",
            "313/313 [==============================] - 15s 11ms/step - loss: 1.5999 - accuracy: 0.4317 - val_loss: 1.3923 - val_accuracy: 0.5223\n",
            "Epoch 2/50\n",
            "313/313 [==============================] - 2s 7ms/step - loss: 1.2484 - accuracy: 0.5576 - val_loss: 1.1340 - val_accuracy: 0.6088\n",
            "Epoch 3/50\n",
            "313/313 [==============================] - 2s 7ms/step - loss: 1.1115 - accuracy: 0.6099 - val_loss: 1.0251 - val_accuracy: 0.6448\n",
            "Epoch 4/50\n",
            "313/313 [==============================] - 3s 9ms/step - loss: 1.0345 - accuracy: 0.6383 - val_loss: 0.9924 - val_accuracy: 0.6612\n",
            "Epoch 5/50\n",
            "313/313 [==============================] - 2s 8ms/step - loss: 0.9734 - accuracy: 0.6630 - val_loss: 0.9399 - val_accuracy: 0.6777\n",
            "Epoch 6/50\n",
            "313/313 [==============================] - 2s 7ms/step - loss: 0.9304 - accuracy: 0.6788 - val_loss: 0.8989 - val_accuracy: 0.6915\n",
            "Epoch 7/50\n",
            "313/313 [==============================] - 2s 7ms/step - loss: 0.8902 - accuracy: 0.6906 - val_loss: 0.8911 - val_accuracy: 0.6944\n",
            "Epoch 8/50\n",
            "313/313 [==============================] - 2s 7ms/step - loss: 0.8634 - accuracy: 0.6998 - val_loss: 0.8601 - val_accuracy: 0.7105\n",
            "Epoch 9/50\n",
            "313/313 [==============================] - 2s 7ms/step - loss: 0.8245 - accuracy: 0.7138 - val_loss: 0.8669 - val_accuracy: 0.7069\n",
            "Epoch 10/50\n",
            "313/313 [==============================] - 3s 8ms/step - loss: 0.8072 - accuracy: 0.7192 - val_loss: 0.8317 - val_accuracy: 0.7182\n",
            "Epoch 11/50\n",
            "313/313 [==============================] - 2s 7ms/step - loss: 0.7944 - accuracy: 0.7238 - val_loss: 0.8334 - val_accuracy: 0.7166\n",
            "Epoch 12/50\n",
            "313/313 [==============================] - 2s 7ms/step - loss: 0.7650 - accuracy: 0.7341 - val_loss: 0.8381 - val_accuracy: 0.7179\n",
            "Epoch 13/50\n",
            "313/313 [==============================] - 2s 7ms/step - loss: 0.7543 - accuracy: 0.7362 - val_loss: 0.8484 - val_accuracy: 0.7086\n",
            "Epoch 14/50\n",
            "313/313 [==============================] - 2s 7ms/step - loss: 0.7425 - accuracy: 0.7408 - val_loss: 0.8098 - val_accuracy: 0.7256\n",
            "Epoch 15/50\n",
            "313/313 [==============================] - 3s 9ms/step - loss: 0.7326 - accuracy: 0.7436 - val_loss: 0.7914 - val_accuracy: 0.7287\n",
            "Epoch 16/50\n",
            "313/313 [==============================] - 2s 7ms/step - loss: 0.7157 - accuracy: 0.7541 - val_loss: 0.8115 - val_accuracy: 0.7238\n",
            "Epoch 17/50\n",
            "313/313 [==============================] - 2s 7ms/step - loss: 0.7091 - accuracy: 0.7521 - val_loss: 0.8029 - val_accuracy: 0.7320\n",
            "Epoch 18/50\n",
            "313/313 [==============================] - 2s 7ms/step - loss: 0.6963 - accuracy: 0.7567 - val_loss: 0.7965 - val_accuracy: 0.7307\n",
            "Epoch 19/50\n",
            "313/313 [==============================] - 2s 7ms/step - loss: 0.6948 - accuracy: 0.7609 - val_loss: 0.7888 - val_accuracy: 0.7353\n",
            "Epoch 20/50\n",
            "313/313 [==============================] - 3s 8ms/step - loss: 0.6830 - accuracy: 0.7623 - val_loss: 0.7891 - val_accuracy: 0.7336\n",
            "Epoch 21/50\n",
            "313/313 [==============================] - 2s 7ms/step - loss: 0.6832 - accuracy: 0.7618 - val_loss: 0.8036 - val_accuracy: 0.7268\n",
            "Epoch 22/50\n",
            "313/313 [==============================] - 2s 7ms/step - loss: 0.6766 - accuracy: 0.7646 - val_loss: 0.7885 - val_accuracy: 0.7323\n",
            "Epoch 23/50\n",
            "313/313 [==============================] - 2s 7ms/step - loss: 0.6613 - accuracy: 0.7680 - val_loss: 0.8030 - val_accuracy: 0.7291\n",
            "Epoch 24/50\n",
            "313/313 [==============================] - 2s 8ms/step - loss: 0.6572 - accuracy: 0.7726 - val_loss: 0.7701 - val_accuracy: 0.7423\n",
            "Epoch 25/50\n",
            "313/313 [==============================] - 3s 8ms/step - loss: 0.6434 - accuracy: 0.7748 - val_loss: 0.7974 - val_accuracy: 0.7318\n",
            "Epoch 26/50\n",
            "313/313 [==============================] - 2s 8ms/step - loss: 0.6507 - accuracy: 0.7728 - val_loss: 0.8039 - val_accuracy: 0.7267\n",
            "Epoch 27/50\n",
            "313/313 [==============================] - 3s 10ms/step - loss: 0.6413 - accuracy: 0.7766 - val_loss: 0.8054 - val_accuracy: 0.7313\n",
            "Epoch 28/50\n",
            "313/313 [==============================] - 2s 7ms/step - loss: 0.6375 - accuracy: 0.7760 - val_loss: 0.7924 - val_accuracy: 0.7325\n",
            "Epoch 29/50\n",
            "309/313 [============================>.] - ETA: 0s - loss: 0.6271 - accuracy: 0.7805Restoring model weights from the end of the best epoch: 24.\n",
            "313/313 [==============================] - 2s 7ms/step - loss: 0.6267 - accuracy: 0.7807 - val_loss: 0.8243 - val_accuracy: 0.7222\n",
            "Epoch 29: early stopping\n"
          ]
        }
      ]
    },
    {
      "cell_type": "markdown",
      "source": [
        "# 3. Exercise: evaluation on test data\n",
        "You will evaluate the classification of the test data using the common metrics and the confusion matrix in this section. \n",
        "\n",
        "\n",
        "As a first stes, let's run the predictions and convert the predicted softmax outputs to dense labels. The one-hot encoded labels are also converted back to dense labels, as they are required for the evaluation functions."
      ],
      "metadata": {
        "id": "2FtKp-a2-A9m"
      }
    },
    {
      "cell_type": "code",
      "source": [
        "probas = model.predict(X_test)\n",
        "preds  = np.argmax(probas,axis=1)\n",
        "Y_test_dense = np.argmax(Y_test, axis=1) # get the original dense labels of the test data"
      ],
      "metadata": {
        "id": "EcWAqwlDMq3y",
        "colab": {
          "base_uri": "https://localhost:8080/"
        },
        "outputId": "af43d07e-a115-41e2-d2e3-0b93d59fd79e"
      },
      "execution_count": 21,
      "outputs": [
        {
          "output_type": "stream",
          "name": "stdout",
          "text": [
            "313/313 [==============================] - 1s 2ms/step\n"
          ]
        }
      ]
    },
    {
      "cell_type": "markdown",
      "source": [
        "## 3.1. Exercise: Metrics\n",
        "please review the common classification metrics (accuracy, precision, recall, F1) for the complete model (not per class). \n",
        "\n",
        "Hints:\n",
        "* use macro averaging\n",
        "* you have to import the right functions from [sklearn.metrics](https://scikit-learn.org/stable/modules/model_evaluation.html)\n"
      ],
      "metadata": {
        "id": "RWJ-PH_iMs9K"
      }
    },
    {
      "cell_type": "code",
      "source": [
        "from sklearn.metrics import accuracy_score, precision_score, recall_score, f1_score"
      ],
      "metadata": {
        "id": "5sKm5zHSMZ_x"
      },
      "execution_count": 22,
      "outputs": []
    },
    {
      "cell_type": "code",
      "source": [
        "print(\"Accuracy:\",accuracy_score(Y_test_dense, preds))\n",
        "print(\"Precision:\",precision_score(Y_test_dense, preds, average=\"macro\"))\n",
        "print(\"Recall:\",recall_score(Y_test_dense, preds, average=\"macro\"))\n",
        "print(\"F1:\",f1_score(Y_test_dense, preds, average=\"macro\"))"
      ],
      "metadata": {
        "id": "I3_9wgDREUna",
        "colab": {
          "base_uri": "https://localhost:8080/"
        },
        "outputId": "0c13954e-939e-41fe-c4e5-2c35a60ddf1d"
      },
      "execution_count": 23,
      "outputs": [
        {
          "output_type": "stream",
          "name": "stdout",
          "text": [
            "Accuracy: 0.7284\n",
            "Precision: 0.7268077972417313\n",
            "Recall: 0.7283999999999999\n",
            "F1: 0.7260771843005565\n"
          ]
        }
      ]
    },
    {
      "cell_type": "markdown",
      "source": [
        "\n",
        "## 3.2. Exercise: Confusion matrix\n",
        "Calculate the confusion matrix and display the results in a heatmap (with decimal values).\n",
        "\n",
        "Hints:\n",
        "* you have to do the imports this time too, e.g. from [sklearn.metrics](https://scikit-learn.org/stable/modules/model_evaluation.html) and the [heatmap function](https://seaborn.pydata.org/generated/seaborn.heatmap.html) of [seaborn](https://seaborn.pydata.org/)\n",
        "* for displaying the decimal values, you have to turn annot=True and define fmt='d' in the heatmap function of seaborn"
      ],
      "metadata": {
        "id": "ECHguBFtGL7f"
      }
    },
    {
      "cell_type": "code",
      "source": [
        "from sklearn.metrics import confusion_matrix\n",
        "import seaborn as sns"
      ],
      "metadata": {
        "id": "SIi2VzMBO3yD"
      },
      "execution_count": 24,
      "outputs": []
    },
    {
      "cell_type": "code",
      "metadata": {
        "id": "cdqODx92Svw7",
        "colab": {
          "base_uri": "https://localhost:8080/",
          "height": 395
        },
        "outputId": "63ac45d0-3eb4-40c7-e31a-421f5f54d42c"
      },
      "source": [
        "conf = confusion_matrix(Y_test_dense, preds)\n",
        "plt.figure(figsize=(7,6))\n",
        "sns.heatmap(conf, fmt='d', annot=True, vmin=-100, vmax=700)"
      ],
      "execution_count": 36,
      "outputs": [
        {
          "output_type": "execute_result",
          "data": {
            "text/plain": [
              "<Axes: >"
            ]
          },
          "metadata": {},
          "execution_count": 36
        },
        {
          "output_type": "display_data",
          "data": {
            "text/plain": [
              "<Figure size 504x432 with 2 Axes>"
            ],
            "image/png": "[encoded data removed]"
          },
          "metadata": {
            "needs_background": "light"
          }
        }
      ]
    },
    {
      "cell_type": "code",
      "source": [],
      "metadata": {
        "id": "tMajbagGbSZa"
      },
      "execution_count": null,
      "outputs": []
    }
  ]
}